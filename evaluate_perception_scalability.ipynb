{
 "cells": [
  {
   "cell_type": "code",
   "execution_count": 1,
   "metadata": {},
   "outputs": [],
   "source": [
    "# Here we load probability points from saved pickle files. To fully recompute the results, see recompute.ipynb\n",
    "import pickle as pkl\n",
    "with open(\"data/lb.pkl\", \"rb\") as f:\n",
    "    lbounds_ped, points_ped, tpped_vals = pkl.load(f)\n",
    "f.close()\n",
    "\n",
    "with open(\"data/lbobj.pkl\", \"rb\") as f:\n",
    "    lbounds_obj, points_obj, tpobj_vals = pkl.load(f)\n",
    "f.close()\n",
    "\n",
    "with open(\"data/lbempty.pkl\", \"rb\") as f:\n",
    "    lbounds_emp, points_emp, tpemp_vals = pkl.load(f)\n",
    "f.close()"
   ]
  },
  {
   "cell_type": "code",
   "execution_count": 2,
   "metadata": {},
   "outputs": [],
   "source": [
    "\n",
    "from pacti.terms.polyhedra import PolyhedralContract\n",
    "from pacti_counters import PolyhedralContractCounts"
   ]
  },
  {
   "cell_type": "code",
   "execution_count": 3,
   "metadata": {},
   "outputs": [],
   "source": [
    "\n",
    "\n",
    "# First we construct each contract individually, and then merge the controller contract:\n",
    "## Control contract for pedestrian class\n",
    "def control_contract_ped(lbounds_ped, lbound_tp: float) -> PolyhedralContract:\n",
    "    lb_m, lb_c = lbounds_ped\n",
    "    tp = \"tp_ped\"\n",
    "    P = \"P_ped\"\n",
    "    input_vars = [f\"{tp}\"]\n",
    "    output_vars = [f\"{P}\"]\n",
    "    assumptions = [f\"{tp} <= 1\", f\"-{tp} <= {lbound_tp}\"]\n",
    "    guarantees = [f\"-{P} + \"+str(lb_m)+ f\"{tp} <= \"+str(-1*lb_c)]\n",
    "    Cped = PolyhedralContract.from_string(input_vars=input_vars, output_vars=output_vars, assumptions=assumptions, guarantees=guarantees)\n",
    "    return Cped\n",
    "\n",
    "\n",
    "\n",
    "def control_contract_obj(lbounds_obj, lbound_tp: float) -> PolyhedralContract:\n",
    "    lb_m, lb_c = lbounds_obj\n",
    "\n",
    "    tp = \"tp_obj\"\n",
    "    P = \"P_obj\"\n",
    "    input_vars = [f\"{tp}\"]\n",
    "    output_vars = [f\"{P}\"]\n",
    "    assumptions = [f\"{tp} <= 1\", f\"-{tp} <= {lbound_tp}\"]\n",
    "    guarantees = [f\"-{P} + \"+str(lb_m)+ f\"{tp} <= \"+str(-1*lb_c)]\n",
    "    Cobj = PolyhedralContract.from_string(input_vars=input_vars, output_vars=output_vars, assumptions=assumptions, guarantees=guarantees)\n",
    "    return Cobj\n",
    "\n",
    "\n",
    "\n",
    "def control_contract_emp(lbounds_emp, lbound_tp: float) -> PolyhedralContract:\n",
    "    lb_m, lb_c = lbounds_emp\n",
    "\n",
    "    tp = \"tp_emp\"\n",
    "    P = \"P_emp\"\n",
    "    input_vars = [f\"{tp}\"]\n",
    "    output_vars = [f\"{P}\"]\n",
    "    assumptions = [f\"{tp} <= 1\", f\"-{tp} <= {lbound_tp}\"]\n",
    "    guarantees = [f\"-{P} + \"+str(lb_m)+ f\"{tp} <= \"+str(-1*lb_c)]\n",
    "    Cemp = PolyhedralContract.from_string(input_vars=input_vars, output_vars=output_vars, assumptions=assumptions, guarantees=guarantees)\n",
    "    return Cemp\n",
    "\n",
    "\n",
    "def generate_C_controller(\n",
    "    lbounds_ped, ped_lbound_tp: float, \n",
    "    lbounds_obj, obj_lbound_tp: float, \n",
    "    lbounds_emp, emp_lbound_tp: float\n",
    ") -> PolyhedralContract:\n",
    "    Cped = control_contract_ped(lbounds_ped, ped_lbound_tp)\n",
    "    Cobj = control_contract_obj(lbounds_obj, obj_lbound_tp)\n",
    "    Cemp = control_contract_emp(lbounds_emp, emp_lbound_tp)\n",
    "    return Cped.merge(Cobj).merge(Cemp)\n"
   ]
  },
  {
   "attachments": {},
   "cell_type": "markdown",
   "metadata": {},
   "source": [
    "For system contract, ensure that m*d + c in [0,1]"
   ]
  },
  {
   "cell_type": "code",
   "execution_count": 4,
   "metadata": {},
   "outputs": [],
   "source": [
    "def check_probability_range(m: float, c: float, d_min: float, d_delta: float) -> None:\n",
    "    p_min = m*d_min + c\n",
    "    p_max = m*(d_min + d_delta) + c\n",
    "    if not (0 <= p_min and p_min <= 1 and 0 <= p_max and p_max <= 1):\n",
    "        raise ValueError(f\"check failed: m={m}, d=[{d_min},{d_min+d_delta}], c={c} => p=[{p_min},{p_max}]\")\n",
    "\n",
    "def check_system_contract_dist(\n",
    "    ped_lbound_tp: float, \n",
    "    obj_lbound_tp: float, \n",
    "    emp_lbound_tp: float,\n",
    "    m_ped: float, c_ped: float,\n",
    "    m_obj: float, c_obj: float,\n",
    "    m_emp: float, c_emp: float,\n",
    "    d_min: float, d_delta: float,\n",
    ") -> bool:\n",
    "    try:\n",
    "        check_probability_range(m_ped, c_ped, d_min, d_delta)\n",
    "        check_probability_range(m_obj, c_obj, d_min, d_delta)\n",
    "        check_probability_range(m_emp, c_emp, d_min, d_delta)\n",
    "        return True\n",
    "    except ValueError:\n",
    "        return False\n",
    "\n",
    "def system_contract_dist(\n",
    "    m_ped: float, c_ped: float,\n",
    "    m_obj: float, c_obj: float,\n",
    "    m_emp: float, c_emp: float,\n",
    "    d_min: float, d_delta: float,\n",
    ") -> PolyhedralContract:\n",
    "    assert d_min >= 0\n",
    "\n",
    "    assert m_ped < 0\n",
    "    assert m_obj < 0\n",
    "    assert m_emp < 0\n",
    "\n",
    "    assert c_ped > 0\n",
    "    assert c_obj > 0\n",
    "    assert c_emp > 0\n",
    "\n",
    "    d = \"d\"\n",
    "    P_emp = \"P_emp\"\n",
    "    P_obj = \"P_obj\"\n",
    "    P_ped = \"P_ped\"\n",
    "    input_vars = [d]\n",
    "    output_vars = [P_ped, P_obj, P_emp]\n",
    "    assumptions = [\n",
    "        f\"-{d} <= {d_min}\",\n",
    "        f\"{d} <= {d_delta}\",\n",
    "        ]\n",
    "\n",
    "    guarantees = [\n",
    "        f\"-{P_ped} - {abs(m_ped)}{d} <= -{abs(c_ped)}\",\n",
    "        f\"-{P_obj} - {abs(m_obj)}{d} <= -{abs(c_obj)}\",\n",
    "        f\"-{P_emp} - {abs(m_emp)}{d} <= -{abs(c_emp)}\",\n",
    "        ]\n",
    "    system_contract = PolyhedralContract.from_string(input_vars=input_vars, output_vars=output_vars, assumptions=assumptions, guarantees=guarantees)\n",
    "    return system_contract"
   ]
  },
  {
   "cell_type": "code",
   "execution_count": 5,
   "metadata": {},
   "outputs": [],
   "source": [
    "from typing import Optional, Tuple\n",
    "\n",
    "def calculate_quotient(\n",
    "    ped_lbound_tp: float, \n",
    "    obj_lbound_tp: float, \n",
    "    emp_lbound_tp: float,\n",
    "    m_ped: float, c_ped: float,\n",
    "    m_obj: float, c_obj: float,\n",
    "    m_emp: float, c_emp: float,\n",
    "    d_min: float, d_delta: float,\n",
    ") -> Tuple[PolyhedralContractCounts, Optional[PolyhedralContract]]:\n",
    "    try:\n",
    "        C_controller = generate_C_controller(\n",
    "            lbounds_ped, ped_lbound_tp, \n",
    "            lbounds_obj, obj_lbound_tp,\n",
    "            lbounds_emp, emp_lbound_tp)\n",
    "        \n",
    "        C_sys_dist = system_contract_dist(\n",
    "            m_ped, c_ped,\n",
    "            m_obj, c_obj,\n",
    "            m_emp, c_emp,\n",
    "            d_min, d_min+d_delta)\n",
    "    \n",
    "        return PolyhedralContractCounts().update_counts(), C_sys_dist.quotient(C_controller)\n",
    "    except ValueError:\n",
    "        return PolyhedralContractCounts().update_counts(), None"
   ]
  },
  {
   "cell_type": "code",
   "execution_count": 6,
   "metadata": {},
   "outputs": [],
   "source": [
    "from cpuinfo import get_cpu_info\n",
    "cpu_info = get_cpu_info()\n",
    "cpu_info_message = f\"{cpu_info['brand_raw']} @ {cpu_info['hz_advertised_friendly']} with up to {cpu_info['count']} threads.\"\n"
   ]
  },
  {
   "cell_type": "code",
   "execution_count": 7,
   "metadata": {},
   "outputs": [
    {
     "data": {
      "image/png": "[encoded data removed]",
      "text/plain": [
       "<IPython.core.display.Image object>"
      ]
     },
     "metadata": {},
     "output_type": "display_data"
    },
    {
     "data": {
      "application/vnd.jupyter.widget-view+json": {
       "model_id": "13e4c2fdca854efea7035aa891be974f",
       "version_major": 2,
       "version_minor": 0
      },
      "text/plain": [
       "Output()"
      ]
     },
     "metadata": {},
     "output_type": "display_data"
    }
   ],
   "source": [
    "sample_l_bounds = [\n",
    "    -0.9,   # ped_lbound_tp\n",
    "    -0.9,   # obj_lbound_tp\n",
    "    -0.9,   # emp_lbound_tp\n",
    "    -0.3,   # m_ped\n",
    "    0.2,    # c_ped\n",
    "    -0.3,   # m_obj\n",
    "    0.2,    # c_obj\n",
    "    -0.3,   # m_emp\n",
    "    0.2,    # c_emp\n",
    "    0,      # d_min\n",
    "    2,      # d_delta\n",
    "]\n",
    "\n",
    "sample_u_bounds = [\n",
    "    -0.2,   # ped_lbound_tp\n",
    "    -0.1,   # obj_lbound_tp\n",
    "    -0.2,   # emp_lbound_tp\n",
    "    -0.01,  # m_ped\n",
    "    0.99,   # c_ped\n",
    "    -0.01,  # m_obj\n",
    "    0.99,   # c_obj\n",
    "    -0.01,  # m_emp\n",
    "    0.99,   # c_emp\n",
    "    8,      # d_min\n",
    "    15,     # d_delta\n",
    "]\n",
    "\n",
    "nb_samples = 100000\n",
    "\n",
    "import numpy as np\n",
    "from scipy.stats import qmc\n",
    "sampler: qmc.LatinHypercube = qmc.LatinHypercube(d=len(sample_l_bounds))\n",
    "\n",
    "unscaled_sample: np.ndarray = sampler.random(n=nb_samples)\n",
    "scaled_sample: np.ndarray = qmc.scale(sample=unscaled_sample, l_bounds=sample_l_bounds, u_bounds=sample_u_bounds)\n",
    "filtered_sample: np.ndarray = [sample for sample in scaled_sample if check_system_contract_dist(*sample)]\n",
    "import time\n",
    "from typing import List, Tuple\n",
    "from p_tqdm import p_umap\n",
    "from cpu_usage_plot import cpu_usage_plot\n",
    "\n",
    "def calculate_quotient_params(params: Tuple[float]) -> Tuple[PolyhedralContractCounts, Optional[PolyhedralContract]]:\n",
    "    return calculate_quotient(*params)\n",
    "\n",
    "with cpu_usage_plot():\n",
    "    ta = time.time()\n",
    "    results = p_umap(calculate_quotient_params, filtered_sample)\n",
    "    tb = time.time()"
   ]
  },
  {
   "cell_type": "code",
   "execution_count": 8,
   "metadata": {},
   "outputs": [
    {
     "name": "stdout",
     "output_type": "stream",
     "text": [
      "Found 1161 results out of 1161 filtered combinations from 100000 samples.\n",
      "Total time 8.881763458251953 running on AMD Ryzen Threadripper PRO 3955WX 16-Cores @ 3.8927 GHz with up to 32 threads.\n",
      "Total PolyhedralContract operation counts: compose=0, quotient=20490, merge=43302.\n"
     ]
    }
   ],
   "source": [
    "total_counts = PolyhedralContractCounts()\n",
    "for result in results:\n",
    "    total_counts = total_counts + result[0]\n",
    "filtered_results = [result[1] for result in results if result[1] is not None]\n",
    "\n",
    "print(\n",
    "    f\"Found {len(filtered_results)} results out of {len(filtered_sample)} filtered combinations from {len(scaled_sample)} samples.\\n\"\n",
    "    f\"Total time {tb-ta} running on {cpu_info_message}\\n\"\n",
    "    f\"Total {total_counts}\"\n",
    ")\n"
   ]
  }
 ],
 "metadata": {
  "kernelspec": {
   "display_name": ".venv",
   "language": "python",
   "name": "python3"
  },
  "language_info": {
   "codemirror_mode": {
    "name": "ipython",
    "version": 3
   },
   "file_extension": ".py",
   "mimetype": "text/x-python",
   "name": "python",
   "nbconvert_exporter": "python",
   "pygments_lexer": "ipython3",
   "version": "3.9.16"
  },
  "orig_nbformat": 4
 },
 "nbformat": 4,
 "nbformat_minor": 2
}
